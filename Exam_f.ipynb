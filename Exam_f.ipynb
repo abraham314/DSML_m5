{
 "cells": [
  {
   "cell_type": "code",
   "execution_count": 1,
   "metadata": {},
   "outputs": [],
   "source": [
    "import pandas as pd\n",
    "import numpy as np\n",
    "import matplotlib.pyplot as plt\n",
    "import seaborn as sns\n",
    "import random"
   ]
  },
  {
   "cell_type": "code",
   "execution_count": 2,
   "metadata": {},
   "outputs": [],
   "source": [
    "port_path = \"Prueba.xlsx\"\n",
    "market = pd.read_excel(port_path, index_col=0)"
   ]
  },
  {
   "cell_type": "code",
   "execution_count": 3,
   "metadata": {},
   "outputs": [
    {
     "data": {
      "text/html": [
       "<div>\n",
       "<style scoped>\n",
       "    .dataframe tbody tr th:only-of-type {\n",
       "        vertical-align: middle;\n",
       "    }\n",
       "\n",
       "    .dataframe tbody tr th {\n",
       "        vertical-align: top;\n",
       "    }\n",
       "\n",
       "    .dataframe thead th {\n",
       "        text-align: right;\n",
       "    }\n",
       "</style>\n",
       "<table border=\"1\" class=\"dataframe\">\n",
       "  <thead>\n",
       "    <tr style=\"text-align: right;\">\n",
       "      <th></th>\n",
       "      <th>KIMBERA MF Equity</th>\n",
       "      <th>GAPB MF Equity</th>\n",
       "      <th>CEMEXCPO MF Equity</th>\n",
       "      <th>ASURB MF Equity</th>\n",
       "      <th>GFNORTEO MF Equity</th>\n",
       "      <th>KOFUBL MF Equity</th>\n",
       "      <th>AC* MF Equity</th>\n",
       "      <th>LABB MF Equity</th>\n",
       "      <th>FEMSAUBD MF Equity</th>\n",
       "      <th>OMAB MF Equity</th>\n",
       "      <th>...</th>\n",
       "      <th>MEGACPO MF Equity</th>\n",
       "      <th>GCC* MF Equity</th>\n",
       "      <th>BIMBOA MF Equity</th>\n",
       "      <th>GMEXICOB MF Equity</th>\n",
       "      <th>GCARSOA1 MF Equity</th>\n",
       "      <th>TLEVICPO MF Equity</th>\n",
       "      <th>ALFAA MF Equity</th>\n",
       "      <th>BSMXB MF Equity</th>\n",
       "      <th>PINFRA* MF Equity</th>\n",
       "      <th>MEXBOL INDEX</th>\n",
       "    </tr>\n",
       "    <tr>\n",
       "      <th>DATE</th>\n",
       "      <th></th>\n",
       "      <th></th>\n",
       "      <th></th>\n",
       "      <th></th>\n",
       "      <th></th>\n",
       "      <th></th>\n",
       "      <th></th>\n",
       "      <th></th>\n",
       "      <th></th>\n",
       "      <th></th>\n",
       "      <th></th>\n",
       "      <th></th>\n",
       "      <th></th>\n",
       "      <th></th>\n",
       "      <th></th>\n",
       "      <th></th>\n",
       "      <th></th>\n",
       "      <th></th>\n",
       "      <th></th>\n",
       "      <th></th>\n",
       "      <th></th>\n",
       "    </tr>\n",
       "  </thead>\n",
       "  <tbody>\n",
       "    <tr>\n",
       "      <th>2016-01-01</th>\n",
       "      <td>40.37</td>\n",
       "      <td>152.05</td>\n",
       "      <td>8.72</td>\n",
       "      <td>243.89</td>\n",
       "      <td>94.99</td>\n",
       "      <td>123.90</td>\n",
       "      <td>104.68</td>\n",
       "      <td>13.85</td>\n",
       "      <td>161.63</td>\n",
       "      <td>83.61</td>\n",
       "      <td>...</td>\n",
       "      <td>64.19</td>\n",
       "      <td>44.81</td>\n",
       "      <td>45.95</td>\n",
       "      <td>36.79</td>\n",
       "      <td>70.98</td>\n",
       "      <td>94.34</td>\n",
       "      <td>34.10</td>\n",
       "      <td>30.25</td>\n",
       "      <td>202.73</td>\n",
       "      <td>42977.50</td>\n",
       "    </tr>\n",
       "    <tr>\n",
       "      <th>2016-01-04</th>\n",
       "      <td>39.16</td>\n",
       "      <td>148.57</td>\n",
       "      <td>8.43</td>\n",
       "      <td>238.29</td>\n",
       "      <td>91.79</td>\n",
       "      <td>120.29</td>\n",
       "      <td>102.09</td>\n",
       "      <td>14.41</td>\n",
       "      <td>157.62</td>\n",
       "      <td>81.77</td>\n",
       "      <td>...</td>\n",
       "      <td>64.45</td>\n",
       "      <td>43.51</td>\n",
       "      <td>45.02</td>\n",
       "      <td>35.71</td>\n",
       "      <td>69.83</td>\n",
       "      <td>92.62</td>\n",
       "      <td>33.74</td>\n",
       "      <td>29.46</td>\n",
       "      <td>202.93</td>\n",
       "      <td>42113.70</td>\n",
       "    </tr>\n",
       "    <tr>\n",
       "      <th>2016-01-05</th>\n",
       "      <td>38.89</td>\n",
       "      <td>147.93</td>\n",
       "      <td>8.31</td>\n",
       "      <td>233.03</td>\n",
       "      <td>91.72</td>\n",
       "      <td>118.82</td>\n",
       "      <td>101.12</td>\n",
       "      <td>13.77</td>\n",
       "      <td>157.80</td>\n",
       "      <td>81.58</td>\n",
       "      <td>...</td>\n",
       "      <td>63.16</td>\n",
       "      <td>43.51</td>\n",
       "      <td>45.77</td>\n",
       "      <td>36.45</td>\n",
       "      <td>70.70</td>\n",
       "      <td>91.89</td>\n",
       "      <td>33.99</td>\n",
       "      <td>29.72</td>\n",
       "      <td>203.56</td>\n",
       "      <td>42041.68</td>\n",
       "    </tr>\n",
       "    <tr>\n",
       "      <th>2016-01-06</th>\n",
       "      <td>39.13</td>\n",
       "      <td>146.99</td>\n",
       "      <td>8.29</td>\n",
       "      <td>231.97</td>\n",
       "      <td>91.63</td>\n",
       "      <td>120.32</td>\n",
       "      <td>102.50</td>\n",
       "      <td>13.65</td>\n",
       "      <td>156.37</td>\n",
       "      <td>82.03</td>\n",
       "      <td>...</td>\n",
       "      <td>63.27</td>\n",
       "      <td>43.51</td>\n",
       "      <td>45.97</td>\n",
       "      <td>35.57</td>\n",
       "      <td>70.47</td>\n",
       "      <td>90.41</td>\n",
       "      <td>33.65</td>\n",
       "      <td>29.67</td>\n",
       "      <td>199.80</td>\n",
       "      <td>41691.19</td>\n",
       "    </tr>\n",
       "    <tr>\n",
       "      <th>2016-01-07</th>\n",
       "      <td>39.16</td>\n",
       "      <td>141.32</td>\n",
       "      <td>7.64</td>\n",
       "      <td>230.71</td>\n",
       "      <td>89.54</td>\n",
       "      <td>120.20</td>\n",
       "      <td>101.16</td>\n",
       "      <td>13.25</td>\n",
       "      <td>155.14</td>\n",
       "      <td>80.94</td>\n",
       "      <td>...</td>\n",
       "      <td>62.78</td>\n",
       "      <td>42.76</td>\n",
       "      <td>46.18</td>\n",
       "      <td>35.01</td>\n",
       "      <td>68.15</td>\n",
       "      <td>90.23</td>\n",
       "      <td>31.46</td>\n",
       "      <td>28.50</td>\n",
       "      <td>196.75</td>\n",
       "      <td>40661.57</td>\n",
       "    </tr>\n",
       "  </tbody>\n",
       "</table>\n",
       "<p>5 rows × 36 columns</p>\n",
       "</div>"
      ],
      "text/plain": [
       "            KIMBERA MF Equity  GAPB MF Equity  CEMEXCPO MF Equity  \\\n",
       "DATE                                                                \n",
       "2016-01-01              40.37          152.05                8.72   \n",
       "2016-01-04              39.16          148.57                8.43   \n",
       "2016-01-05              38.89          147.93                8.31   \n",
       "2016-01-06              39.13          146.99                8.29   \n",
       "2016-01-07              39.16          141.32                7.64   \n",
       "\n",
       "            ASURB MF Equity  GFNORTEO MF Equity  KOFUBL MF Equity  \\\n",
       "DATE                                                                \n",
       "2016-01-01           243.89               94.99            123.90   \n",
       "2016-01-04           238.29               91.79            120.29   \n",
       "2016-01-05           233.03               91.72            118.82   \n",
       "2016-01-06           231.97               91.63            120.32   \n",
       "2016-01-07           230.71               89.54            120.20   \n",
       "\n",
       "            AC* MF Equity  LABB MF Equity  FEMSAUBD MF Equity  OMAB MF Equity  \\\n",
       "DATE                                                                            \n",
       "2016-01-01         104.68           13.85              161.63           83.61   \n",
       "2016-01-04         102.09           14.41              157.62           81.77   \n",
       "2016-01-05         101.12           13.77              157.80           81.58   \n",
       "2016-01-06         102.50           13.65              156.37           82.03   \n",
       "2016-01-07         101.16           13.25              155.14           80.94   \n",
       "\n",
       "            ...  MEGACPO MF Equity  GCC* MF Equity  BIMBOA MF Equity  \\\n",
       "DATE        ...                                                        \n",
       "2016-01-01  ...              64.19           44.81             45.95   \n",
       "2016-01-04  ...              64.45           43.51             45.02   \n",
       "2016-01-05  ...              63.16           43.51             45.77   \n",
       "2016-01-06  ...              63.27           43.51             45.97   \n",
       "2016-01-07  ...              62.78           42.76             46.18   \n",
       "\n",
       "            GMEXICOB MF Equity  GCARSOA1 MF Equity  TLEVICPO MF Equity  \\\n",
       "DATE                                                                     \n",
       "2016-01-01               36.79               70.98               94.34   \n",
       "2016-01-04               35.71               69.83               92.62   \n",
       "2016-01-05               36.45               70.70               91.89   \n",
       "2016-01-06               35.57               70.47               90.41   \n",
       "2016-01-07               35.01               68.15               90.23   \n",
       "\n",
       "            ALFAA MF Equity  BSMXB MF Equity  PINFRA* MF Equity  MEXBOL INDEX  \n",
       "DATE                                                                           \n",
       "2016-01-01            34.10            30.25             202.73      42977.50  \n",
       "2016-01-04            33.74            29.46             202.93      42113.70  \n",
       "2016-01-05            33.99            29.72             203.56      42041.68  \n",
       "2016-01-06            33.65            29.67             199.80      41691.19  \n",
       "2016-01-07            31.46            28.50             196.75      40661.57  \n",
       "\n",
       "[5 rows x 36 columns]"
      ]
     },
     "execution_count": 3,
     "metadata": {},
     "output_type": "execute_result"
    }
   ],
   "source": [
    "market.head()"
   ]
  },
  {
   "cell_type": "markdown",
   "metadata": {},
   "source": [
    "**El objetivo del examen final es construir un portafolio riesgoso con 7 acciones e invertir en un\n",
    "portafolio\n",
    "completo que maximice tu utilidad\n",
    ".\n",
    "Considera una tasa libre de riesgo de 5.0%\n",
    ",\n",
    "un premio\n",
    "por riesgo de mercado de 10.0%\n",
    "y un nivel de aversión al riesgo A=3**"
   ]
  },
  {
   "cell_type": "markdown",
   "metadata": {},
   "source": [
    "**Escogemos 7 acciones**"
   ]
  },
  {
   "cell_type": "code",
   "execution_count": 4,
   "metadata": {},
   "outputs": [
    {
     "data": {
      "text/plain": [
       "['ALSEA* MF Equity',\n",
       " 'GMEXICOB MF Equity',\n",
       " 'LABB MF Equity',\n",
       " 'AMXL MF Equity',\n",
       " 'KIMBERA MF Equity',\n",
       " 'GENTERA* MF Equity',\n",
       " 'GCARSOA1 MF Equity']"
      ]
     },
     "execution_count": 4,
     "metadata": {},
     "output_type": "execute_result"
    }
   ],
   "source": [
    "random.seed(314)\n",
    "equities=random.sample(list(market.columns),7)\n",
    "equities"
   ]
  },
  {
   "cell_type": "code",
   "execution_count": 5,
   "metadata": {},
   "outputs": [
    {
     "data": {
      "text/html": [
       "<div>\n",
       "<style scoped>\n",
       "    .dataframe tbody tr th:only-of-type {\n",
       "        vertical-align: middle;\n",
       "    }\n",
       "\n",
       "    .dataframe tbody tr th {\n",
       "        vertical-align: top;\n",
       "    }\n",
       "\n",
       "    .dataframe thead th {\n",
       "        text-align: right;\n",
       "    }\n",
       "</style>\n",
       "<table border=\"1\" class=\"dataframe\">\n",
       "  <thead>\n",
       "    <tr style=\"text-align: right;\">\n",
       "      <th></th>\n",
       "      <th>ALSEA* MF Equity</th>\n",
       "      <th>GMEXICOB MF Equity</th>\n",
       "      <th>LABB MF Equity</th>\n",
       "      <th>AMXL MF Equity</th>\n",
       "      <th>KIMBERA MF Equity</th>\n",
       "      <th>GENTERA* MF Equity</th>\n",
       "      <th>GCARSOA1 MF Equity</th>\n",
       "    </tr>\n",
       "    <tr>\n",
       "      <th>DATE</th>\n",
       "      <th></th>\n",
       "      <th></th>\n",
       "      <th></th>\n",
       "      <th></th>\n",
       "      <th></th>\n",
       "      <th></th>\n",
       "      <th></th>\n",
       "    </tr>\n",
       "  </thead>\n",
       "  <tbody>\n",
       "    <tr>\n",
       "      <th>2016-01-01</th>\n",
       "      <td>59.85</td>\n",
       "      <td>36.79</td>\n",
       "      <td>13.85</td>\n",
       "      <td>12.12</td>\n",
       "      <td>40.37</td>\n",
       "      <td>33.35</td>\n",
       "      <td>70.98</td>\n",
       "    </tr>\n",
       "    <tr>\n",
       "      <th>2016-01-04</th>\n",
       "      <td>58.93</td>\n",
       "      <td>35.71</td>\n",
       "      <td>14.41</td>\n",
       "      <td>12.03</td>\n",
       "      <td>39.16</td>\n",
       "      <td>31.80</td>\n",
       "      <td>69.83</td>\n",
       "    </tr>\n",
       "    <tr>\n",
       "      <th>2016-01-05</th>\n",
       "      <td>59.41</td>\n",
       "      <td>36.45</td>\n",
       "      <td>13.77</td>\n",
       "      <td>11.97</td>\n",
       "      <td>38.89</td>\n",
       "      <td>32.16</td>\n",
       "      <td>70.70</td>\n",
       "    </tr>\n",
       "    <tr>\n",
       "      <th>2016-01-06</th>\n",
       "      <td>59.19</td>\n",
       "      <td>35.57</td>\n",
       "      <td>13.65</td>\n",
       "      <td>11.74</td>\n",
       "      <td>39.13</td>\n",
       "      <td>31.89</td>\n",
       "      <td>70.47</td>\n",
       "    </tr>\n",
       "    <tr>\n",
       "      <th>2016-01-07</th>\n",
       "      <td>56.93</td>\n",
       "      <td>35.01</td>\n",
       "      <td>13.25</td>\n",
       "      <td>11.34</td>\n",
       "      <td>39.16</td>\n",
       "      <td>30.59</td>\n",
       "      <td>68.15</td>\n",
       "    </tr>\n",
       "  </tbody>\n",
       "</table>\n",
       "</div>"
      ],
      "text/plain": [
       "            ALSEA* MF Equity  GMEXICOB MF Equity  LABB MF Equity  \\\n",
       "DATE                                                               \n",
       "2016-01-01             59.85               36.79           13.85   \n",
       "2016-01-04             58.93               35.71           14.41   \n",
       "2016-01-05             59.41               36.45           13.77   \n",
       "2016-01-06             59.19               35.57           13.65   \n",
       "2016-01-07             56.93               35.01           13.25   \n",
       "\n",
       "            AMXL MF Equity  KIMBERA MF Equity  GENTERA* MF Equity  \\\n",
       "DATE                                                                \n",
       "2016-01-01           12.12              40.37               33.35   \n",
       "2016-01-04           12.03              39.16               31.80   \n",
       "2016-01-05           11.97              38.89               32.16   \n",
       "2016-01-06           11.74              39.13               31.89   \n",
       "2016-01-07           11.34              39.16               30.59   \n",
       "\n",
       "            GCARSOA1 MF Equity  \n",
       "DATE                            \n",
       "2016-01-01               70.98  \n",
       "2016-01-04               69.83  \n",
       "2016-01-05               70.70  \n",
       "2016-01-06               70.47  \n",
       "2016-01-07               68.15  "
      ]
     },
     "execution_count": 5,
     "metadata": {},
     "output_type": "execute_result"
    }
   ],
   "source": [
    "eqs=market[equities]\n",
    "eqs.head()"
   ]
  },
  {
   "cell_type": "markdown",
   "metadata": {},
   "source": [
    "# 1.Rendimiento esperado diario y anual bajo los siguientes modelos:\n",
    "\n",
    "a.Modelo de rendimiento promedio constante\n"
   ]
  },
  {
   "cell_type": "code",
   "execution_count": 6,
   "metadata": {},
   "outputs": [
    {
     "data": {
      "text/html": [
       "<div>\n",
       "<style scoped>\n",
       "    .dataframe tbody tr th:only-of-type {\n",
       "        vertical-align: middle;\n",
       "    }\n",
       "\n",
       "    .dataframe tbody tr th {\n",
       "        vertical-align: top;\n",
       "    }\n",
       "\n",
       "    .dataframe thead th {\n",
       "        text-align: right;\n",
       "    }\n",
       "</style>\n",
       "<table border=\"1\" class=\"dataframe\">\n",
       "  <thead>\n",
       "    <tr style=\"text-align: right;\">\n",
       "      <th></th>\n",
       "      <th>ALSEA*</th>\n",
       "      <th>GMEXICOB</th>\n",
       "      <th>LABB</th>\n",
       "      <th>AMXL</th>\n",
       "      <th>KIMBERA</th>\n",
       "      <th>GENTERA*</th>\n",
       "      <th>GCARSOA1</th>\n",
       "    </tr>\n",
       "    <tr>\n",
       "      <th>DATE</th>\n",
       "      <th></th>\n",
       "      <th></th>\n",
       "      <th></th>\n",
       "      <th></th>\n",
       "      <th></th>\n",
       "      <th></th>\n",
       "      <th></th>\n",
       "    </tr>\n",
       "  </thead>\n",
       "  <tbody>\n",
       "    <tr>\n",
       "      <th>2016-01-04</th>\n",
       "      <td>-0.015372</td>\n",
       "      <td>-0.029356</td>\n",
       "      <td>0.040433</td>\n",
       "      <td>-0.007426</td>\n",
       "      <td>-0.029973</td>\n",
       "      <td>-0.046477</td>\n",
       "      <td>-0.016202</td>\n",
       "    </tr>\n",
       "    <tr>\n",
       "      <th>2016-01-05</th>\n",
       "      <td>0.008145</td>\n",
       "      <td>0.020722</td>\n",
       "      <td>-0.044414</td>\n",
       "      <td>-0.004988</td>\n",
       "      <td>-0.006895</td>\n",
       "      <td>0.011321</td>\n",
       "      <td>0.012459</td>\n",
       "    </tr>\n",
       "    <tr>\n",
       "      <th>2016-01-06</th>\n",
       "      <td>-0.003703</td>\n",
       "      <td>-0.024143</td>\n",
       "      <td>-0.008715</td>\n",
       "      <td>-0.019215</td>\n",
       "      <td>0.006171</td>\n",
       "      <td>-0.008396</td>\n",
       "      <td>-0.003253</td>\n",
       "    </tr>\n",
       "    <tr>\n",
       "      <th>2016-01-07</th>\n",
       "      <td>-0.038182</td>\n",
       "      <td>-0.015744</td>\n",
       "      <td>-0.029304</td>\n",
       "      <td>-0.034072</td>\n",
       "      <td>0.000767</td>\n",
       "      <td>-0.040765</td>\n",
       "      <td>-0.032922</td>\n",
       "    </tr>\n",
       "    <tr>\n",
       "      <th>2016-01-08</th>\n",
       "      <td>-0.003337</td>\n",
       "      <td>-0.024279</td>\n",
       "      <td>-0.015094</td>\n",
       "      <td>-0.037037</td>\n",
       "      <td>-0.013023</td>\n",
       "      <td>-0.002288</td>\n",
       "      <td>-0.000587</td>\n",
       "    </tr>\n",
       "  </tbody>\n",
       "</table>\n",
       "</div>"
      ],
      "text/plain": [
       "              ALSEA*  GMEXICOB      LABB      AMXL   KIMBERA  GENTERA*  \\\n",
       "DATE                                                                     \n",
       "2016-01-04 -0.015372 -0.029356  0.040433 -0.007426 -0.029973 -0.046477   \n",
       "2016-01-05  0.008145  0.020722 -0.044414 -0.004988 -0.006895  0.011321   \n",
       "2016-01-06 -0.003703 -0.024143 -0.008715 -0.019215  0.006171 -0.008396   \n",
       "2016-01-07 -0.038182 -0.015744 -0.029304 -0.034072  0.000767 -0.040765   \n",
       "2016-01-08 -0.003337 -0.024279 -0.015094 -0.037037 -0.013023 -0.002288   \n",
       "\n",
       "            GCARSOA1  \n",
       "DATE                  \n",
       "2016-01-04 -0.016202  \n",
       "2016-01-05  0.012459  \n",
       "2016-01-06 -0.003253  \n",
       "2016-01-07 -0.032922  \n",
       "2016-01-08 -0.000587  "
      ]
     },
     "execution_count": 6,
     "metadata": {},
     "output_type": "execute_result"
    }
   ],
   "source": [
    "rets = eqs.pct_change().dropna(axis=0)\n",
    "rets.columns = [col.replace(\" MF Equity\", \"\") for col in rets.columns]\n",
    "rets.head()"
   ]
  },
  {
   "cell_type": "code",
   "execution_count": 7,
   "metadata": {},
   "outputs": [
    {
     "data": {
      "text/plain": [
       "ALSEA*     -0.000019\n",
       "GMEXICOB    0.000531\n",
       "LABB        0.000521\n",
       "AMXL        0.000348\n",
       "KIMBERA     0.000066\n",
       "GENTERA*   -0.000284\n",
       "GCARSOA1    0.000224\n",
       "dtype: float64"
      ]
     },
     "execution_count": 7,
     "metadata": {},
     "output_type": "execute_result"
    }
   ],
   "source": [
    "rend_d=rets.mean() #diario\n",
    "rend_d"
   ]
  },
  {
   "cell_type": "code",
   "execution_count": 8,
   "metadata": {},
   "outputs": [
    {
     "data": {
      "text/plain": [
       "ALSEA*     -0.004718\n",
       "GMEXICOB    0.133839\n",
       "LABB        0.131383\n",
       "AMXL        0.087740\n",
       "KIMBERA     0.016722\n",
       "GENTERA*   -0.071630\n",
       "GCARSOA1    0.056460\n",
       "dtype: float64"
      ]
     },
     "execution_count": 8,
     "metadata": {},
     "output_type": "execute_result"
    }
   ],
   "source": [
    "rend_a=rets.mean()*252 #anual\n",
    "rend_a"
   ]
  },
  {
   "cell_type": "code",
   "execution_count": 9,
   "metadata": {},
   "outputs": [
    {
     "data": {
      "text/plain": [
       "array([0.24088922, 0.26719461, 0.11003278, 0.09544069, 0.22148783,\n",
       "       0.00581472, 0.05914015])"
      ]
     },
     "execution_count": 9,
     "metadata": {},
     "output_type": "execute_result"
    }
   ],
   "source": [
    "#calculamos pesos aleatorios...\n",
    "weights = np.random.random(7)\n",
    "weights /= sum(weights)\n",
    "weights"
   ]
  },
  {
   "cell_type": "code",
   "execution_count": 10,
   "metadata": {},
   "outputs": [
    {
     "data": {
      "text/plain": [
       "0.0002542901094701493"
      ]
     },
     "execution_count": 10,
     "metadata": {},
     "output_type": "execute_result"
    }
   ],
   "source": [
    "#Rendimiento esperado promedio cte...\n",
    "E_p = (rend_d @ weights) #diario\n",
    "E_p"
   ]
  },
  {
   "cell_type": "code",
   "execution_count": 11,
   "metadata": {},
   "outputs": [
    {
     "data": {
      "text/plain": [
       "0.06408110758647763"
      ]
     },
     "execution_count": 11,
     "metadata": {},
     "output_type": "execute_result"
    }
   ],
   "source": [
    "E_pa = (rend_d @ weights)*252 #anual\n",
    "E_pa"
   ]
  },
  {
   "cell_type": "code",
   "execution_count": 12,
   "metadata": {},
   "outputs": [
    {
     "data": {
      "text/plain": [
       "0.010321904803262918"
      ]
     },
     "execution_count": 12,
     "metadata": {},
     "output_type": "execute_result"
    }
   ],
   "source": [
    "S_p = np.sqrt(weights.T @ (rets.cov()) @ weights)\n",
    "S_p"
   ]
  },
  {
   "cell_type": "markdown",
   "metadata": {},
   "source": [
    "**b.Modelo CAPM**\n",
    "\n",
    "i.¿Cuál es la beta de cada acción?\n",
    "\n",
    "ii.Clasifica las acciones en defensivas y agresivas"
   ]
  },
  {
   "cell_type": "markdown",
   "metadata": {},
   "source": [
    "**Usaremos mexbol como el mercado para calcular las $\\beta's$**\n",
    "\n",
    "$\\beta_{p}=\\frac{\\operatorname{Cov}\\left(r_{p}, r_{b}\\right)}{\\operatorname{Var}\\left(r_{b}\\right)}$"
   ]
  },
  {
   "cell_type": "code",
   "execution_count": 13,
   "metadata": {},
   "outputs": [
    {
     "data": {
      "text/html": [
       "<div>\n",
       "<style scoped>\n",
       "    .dataframe tbody tr th:only-of-type {\n",
       "        vertical-align: middle;\n",
       "    }\n",
       "\n",
       "    .dataframe tbody tr th {\n",
       "        vertical-align: top;\n",
       "    }\n",
       "\n",
       "    .dataframe thead th {\n",
       "        text-align: right;\n",
       "    }\n",
       "</style>\n",
       "<table border=\"1\" class=\"dataframe\">\n",
       "  <thead>\n",
       "    <tr style=\"text-align: right;\">\n",
       "      <th></th>\n",
       "      <th>ALSEA* MF Equity</th>\n",
       "      <th>GMEXICOB MF Equity</th>\n",
       "      <th>LABB MF Equity</th>\n",
       "      <th>AMXL MF Equity</th>\n",
       "      <th>KIMBERA MF Equity</th>\n",
       "      <th>GENTERA* MF Equity</th>\n",
       "      <th>GCARSOA1 MF Equity</th>\n",
       "      <th>MEXBOL INDEX</th>\n",
       "    </tr>\n",
       "    <tr>\n",
       "      <th>DATE</th>\n",
       "      <th></th>\n",
       "      <th></th>\n",
       "      <th></th>\n",
       "      <th></th>\n",
       "      <th></th>\n",
       "      <th></th>\n",
       "      <th></th>\n",
       "      <th></th>\n",
       "    </tr>\n",
       "  </thead>\n",
       "  <tbody>\n",
       "    <tr>\n",
       "      <th>2016-01-04</th>\n",
       "      <td>-0.015372</td>\n",
       "      <td>-0.029356</td>\n",
       "      <td>0.040433</td>\n",
       "      <td>-0.007426</td>\n",
       "      <td>-0.029973</td>\n",
       "      <td>-0.046477</td>\n",
       "      <td>-0.016202</td>\n",
       "      <td>-0.020099</td>\n",
       "    </tr>\n",
       "    <tr>\n",
       "      <th>2016-01-05</th>\n",
       "      <td>0.008145</td>\n",
       "      <td>0.020722</td>\n",
       "      <td>-0.044414</td>\n",
       "      <td>-0.004988</td>\n",
       "      <td>-0.006895</td>\n",
       "      <td>0.011321</td>\n",
       "      <td>0.012459</td>\n",
       "      <td>-0.001710</td>\n",
       "    </tr>\n",
       "    <tr>\n",
       "      <th>2016-01-06</th>\n",
       "      <td>-0.003703</td>\n",
       "      <td>-0.024143</td>\n",
       "      <td>-0.008715</td>\n",
       "      <td>-0.019215</td>\n",
       "      <td>0.006171</td>\n",
       "      <td>-0.008396</td>\n",
       "      <td>-0.003253</td>\n",
       "      <td>-0.008337</td>\n",
       "    </tr>\n",
       "    <tr>\n",
       "      <th>2016-01-07</th>\n",
       "      <td>-0.038182</td>\n",
       "      <td>-0.015744</td>\n",
       "      <td>-0.029304</td>\n",
       "      <td>-0.034072</td>\n",
       "      <td>0.000767</td>\n",
       "      <td>-0.040765</td>\n",
       "      <td>-0.032922</td>\n",
       "      <td>-0.024696</td>\n",
       "    </tr>\n",
       "    <tr>\n",
       "      <th>2016-01-08</th>\n",
       "      <td>-0.003337</td>\n",
       "      <td>-0.024279</td>\n",
       "      <td>-0.015094</td>\n",
       "      <td>-0.037037</td>\n",
       "      <td>-0.013023</td>\n",
       "      <td>-0.002288</td>\n",
       "      <td>-0.000587</td>\n",
       "      <td>-0.009744</td>\n",
       "    </tr>\n",
       "  </tbody>\n",
       "</table>\n",
       "</div>"
      ],
      "text/plain": [
       "            ALSEA* MF Equity  GMEXICOB MF Equity  LABB MF Equity  \\\n",
       "DATE                                                               \n",
       "2016-01-04         -0.015372           -0.029356        0.040433   \n",
       "2016-01-05          0.008145            0.020722       -0.044414   \n",
       "2016-01-06         -0.003703           -0.024143       -0.008715   \n",
       "2016-01-07         -0.038182           -0.015744       -0.029304   \n",
       "2016-01-08         -0.003337           -0.024279       -0.015094   \n",
       "\n",
       "            AMXL MF Equity  KIMBERA MF Equity  GENTERA* MF Equity  \\\n",
       "DATE                                                                \n",
       "2016-01-04       -0.007426          -0.029973           -0.046477   \n",
       "2016-01-05       -0.004988          -0.006895            0.011321   \n",
       "2016-01-06       -0.019215           0.006171           -0.008396   \n",
       "2016-01-07       -0.034072           0.000767           -0.040765   \n",
       "2016-01-08       -0.037037          -0.013023           -0.002288   \n",
       "\n",
       "            GCARSOA1 MF Equity  MEXBOL INDEX  \n",
       "DATE                                          \n",
       "2016-01-04           -0.016202     -0.020099  \n",
       "2016-01-05            0.012459     -0.001710  \n",
       "2016-01-06           -0.003253     -0.008337  \n",
       "2016-01-07           -0.032922     -0.024696  \n",
       "2016-01-08           -0.000587     -0.009744  "
      ]
     },
     "execution_count": 13,
     "metadata": {},
     "output_type": "execute_result"
    }
   ],
   "source": [
    "rends=eqs.copy()\n",
    "rends[\"MEXBOL INDEX\"]=market[\"MEXBOL INDEX\"]\n",
    "rends=rends.pct_change().dropna(axis=0)\n",
    "rends.head()"
   ]
  },
  {
   "cell_type": "code",
   "execution_count": 14,
   "metadata": {},
   "outputs": [
    {
     "data": {
      "text/plain": [
       "ALSEA* MF Equity      0.822097\n",
       "GMEXICOB MF Equity    1.121967\n",
       "LABB MF Equity        0.750539\n",
       "AMXL MF Equity        1.143297\n",
       "KIMBERA MF Equity     0.818112\n",
       "GENTERA* MF Equity    1.007168\n",
       "GCARSOA1 MF Equity    1.084677\n",
       "Name: MEXBOL INDEX, dtype: float64"
      ]
     },
     "execution_count": 14,
     "metadata": {},
     "output_type": "execute_result"
    }
   ],
   "source": [
    "#Calculamos las betas...\n",
    "betas=((rends.cov())/(rends.var()))['MEXBOL INDEX'].head(7)\n",
    "betas"
   ]
  },
  {
   "cell_type": "code",
   "execution_count": 15,
   "metadata": {},
   "outputs": [
    {
     "data": {
      "text/html": [
       "<div>\n",
       "<style scoped>\n",
       "    .dataframe tbody tr th:only-of-type {\n",
       "        vertical-align: middle;\n",
       "    }\n",
       "\n",
       "    .dataframe tbody tr th {\n",
       "        vertical-align: top;\n",
       "    }\n",
       "\n",
       "    .dataframe thead th {\n",
       "        text-align: right;\n",
       "    }\n",
       "</style>\n",
       "<table border=\"1\" class=\"dataframe\">\n",
       "  <thead>\n",
       "    <tr style=\"text-align: right;\">\n",
       "      <th></th>\n",
       "      <th>beta</th>\n",
       "      <th>tipo_acción</th>\n",
       "    </tr>\n",
       "  </thead>\n",
       "  <tbody>\n",
       "    <tr>\n",
       "      <th>ALSEA* MF Equity</th>\n",
       "      <td>0.822097</td>\n",
       "      <td>defensiva</td>\n",
       "    </tr>\n",
       "    <tr>\n",
       "      <th>GMEXICOB MF Equity</th>\n",
       "      <td>1.121967</td>\n",
       "      <td>ofensiva</td>\n",
       "    </tr>\n",
       "    <tr>\n",
       "      <th>LABB MF Equity</th>\n",
       "      <td>0.750539</td>\n",
       "      <td>defensiva</td>\n",
       "    </tr>\n",
       "    <tr>\n",
       "      <th>AMXL MF Equity</th>\n",
       "      <td>1.143297</td>\n",
       "      <td>ofensiva</td>\n",
       "    </tr>\n",
       "    <tr>\n",
       "      <th>KIMBERA MF Equity</th>\n",
       "      <td>0.818112</td>\n",
       "      <td>defensiva</td>\n",
       "    </tr>\n",
       "    <tr>\n",
       "      <th>GENTERA* MF Equity</th>\n",
       "      <td>1.007168</td>\n",
       "      <td>ofensiva</td>\n",
       "    </tr>\n",
       "    <tr>\n",
       "      <th>GCARSOA1 MF Equity</th>\n",
       "      <td>1.084677</td>\n",
       "      <td>ofensiva</td>\n",
       "    </tr>\n",
       "  </tbody>\n",
       "</table>\n",
       "</div>"
      ],
      "text/plain": [
       "                        beta tipo_acción\n",
       "ALSEA* MF Equity    0.822097   defensiva\n",
       "GMEXICOB MF Equity  1.121967    ofensiva\n",
       "LABB MF Equity      0.750539   defensiva\n",
       "AMXL MF Equity      1.143297    ofensiva\n",
       "KIMBERA MF Equity   0.818112   defensiva\n",
       "GENTERA* MF Equity  1.007168    ofensiva\n",
       "GCARSOA1 MF Equity  1.084677    ofensiva"
      ]
     },
     "execution_count": 15,
     "metadata": {},
     "output_type": "execute_result"
    }
   ],
   "source": [
    "#clasificamos acciones\n",
    "bts=pd.DataFrame(betas)\n",
    "bts.columns=['beta']\n",
    "bts['tipo_acción']=bts['beta'].apply(lambda x: \"defensiva\" if x<=1 else 'ofensiva')\n",
    "bts"
   ]
  },
  {
   "cell_type": "markdown",
   "metadata": {},
   "source": [
    "# 2. Matriz varianza-covarianza"
   ]
  },
  {
   "cell_type": "code",
   "execution_count": 16,
   "metadata": {},
   "outputs": [
    {
     "data": {
      "text/html": [
       "<div>\n",
       "<style scoped>\n",
       "    .dataframe tbody tr th:only-of-type {\n",
       "        vertical-align: middle;\n",
       "    }\n",
       "\n",
       "    .dataframe tbody tr th {\n",
       "        vertical-align: top;\n",
       "    }\n",
       "\n",
       "    .dataframe thead th {\n",
       "        text-align: right;\n",
       "    }\n",
       "</style>\n",
       "<table border=\"1\" class=\"dataframe\">\n",
       "  <thead>\n",
       "    <tr style=\"text-align: right;\">\n",
       "      <th></th>\n",
       "      <th>ALSEA*</th>\n",
       "      <th>GMEXICOB</th>\n",
       "      <th>LABB</th>\n",
       "      <th>AMXL</th>\n",
       "      <th>KIMBERA</th>\n",
       "      <th>GENTERA*</th>\n",
       "      <th>GCARSOA1</th>\n",
       "    </tr>\n",
       "  </thead>\n",
       "  <tbody>\n",
       "    <tr>\n",
       "      <th>ALSEA*</th>\n",
       "      <td>0.000235</td>\n",
       "      <td>0.000045</td>\n",
       "      <td>0.000059</td>\n",
       "      <td>0.000046</td>\n",
       "      <td>0.000071</td>\n",
       "      <td>0.000084</td>\n",
       "      <td>0.000079</td>\n",
       "    </tr>\n",
       "    <tr>\n",
       "      <th>GMEXICOB</th>\n",
       "      <td>0.000045</td>\n",
       "      <td>0.000325</td>\n",
       "      <td>0.000055</td>\n",
       "      <td>0.000064</td>\n",
       "      <td>0.000055</td>\n",
       "      <td>0.000062</td>\n",
       "      <td>0.000105</td>\n",
       "    </tr>\n",
       "    <tr>\n",
       "      <th>LABB</th>\n",
       "      <td>0.000059</td>\n",
       "      <td>0.000055</td>\n",
       "      <td>0.000463</td>\n",
       "      <td>0.000044</td>\n",
       "      <td>0.000070</td>\n",
       "      <td>0.000075</td>\n",
       "      <td>0.000083</td>\n",
       "    </tr>\n",
       "    <tr>\n",
       "      <th>AMXL</th>\n",
       "      <td>0.000046</td>\n",
       "      <td>0.000064</td>\n",
       "      <td>0.000044</td>\n",
       "      <td>0.000229</td>\n",
       "      <td>0.000051</td>\n",
       "      <td>0.000050</td>\n",
       "      <td>0.000068</td>\n",
       "    </tr>\n",
       "    <tr>\n",
       "      <th>KIMBERA</th>\n",
       "      <td>0.000071</td>\n",
       "      <td>0.000055</td>\n",
       "      <td>0.000070</td>\n",
       "      <td>0.000051</td>\n",
       "      <td>0.000245</td>\n",
       "      <td>0.000088</td>\n",
       "      <td>0.000087</td>\n",
       "    </tr>\n",
       "    <tr>\n",
       "      <th>GENTERA*</th>\n",
       "      <td>0.000084</td>\n",
       "      <td>0.000062</td>\n",
       "      <td>0.000075</td>\n",
       "      <td>0.000050</td>\n",
       "      <td>0.000088</td>\n",
       "      <td>0.000425</td>\n",
       "      <td>0.000111</td>\n",
       "    </tr>\n",
       "    <tr>\n",
       "      <th>GCARSOA1</th>\n",
       "      <td>0.000079</td>\n",
       "      <td>0.000105</td>\n",
       "      <td>0.000083</td>\n",
       "      <td>0.000068</td>\n",
       "      <td>0.000087</td>\n",
       "      <td>0.000111</td>\n",
       "      <td>0.000361</td>\n",
       "    </tr>\n",
       "  </tbody>\n",
       "</table>\n",
       "</div>"
      ],
      "text/plain": [
       "            ALSEA*  GMEXICOB      LABB      AMXL   KIMBERA  GENTERA*  GCARSOA1\n",
       "ALSEA*    0.000235  0.000045  0.000059  0.000046  0.000071  0.000084  0.000079\n",
       "GMEXICOB  0.000045  0.000325  0.000055  0.000064  0.000055  0.000062  0.000105\n",
       "LABB      0.000059  0.000055  0.000463  0.000044  0.000070  0.000075  0.000083\n",
       "AMXL      0.000046  0.000064  0.000044  0.000229  0.000051  0.000050  0.000068\n",
       "KIMBERA   0.000071  0.000055  0.000070  0.000051  0.000245  0.000088  0.000087\n",
       "GENTERA*  0.000084  0.000062  0.000075  0.000050  0.000088  0.000425  0.000111\n",
       "GCARSOA1  0.000079  0.000105  0.000083  0.000068  0.000087  0.000111  0.000361"
      ]
     },
     "execution_count": 16,
     "metadata": {},
     "output_type": "execute_result"
    }
   ],
   "source": [
    "vcov=rets.cov() #diaria\n",
    "vcov"
   ]
  },
  {
   "cell_type": "code",
   "execution_count": 17,
   "metadata": {},
   "outputs": [
    {
     "data": {
      "text/html": [
       "<div>\n",
       "<style scoped>\n",
       "    .dataframe tbody tr th:only-of-type {\n",
       "        vertical-align: middle;\n",
       "    }\n",
       "\n",
       "    .dataframe tbody tr th {\n",
       "        vertical-align: top;\n",
       "    }\n",
       "\n",
       "    .dataframe thead th {\n",
       "        text-align: right;\n",
       "    }\n",
       "</style>\n",
       "<table border=\"1\" class=\"dataframe\">\n",
       "  <thead>\n",
       "    <tr style=\"text-align: right;\">\n",
       "      <th></th>\n",
       "      <th>ALSEA*</th>\n",
       "      <th>GMEXICOB</th>\n",
       "      <th>LABB</th>\n",
       "      <th>AMXL</th>\n",
       "      <th>KIMBERA</th>\n",
       "      <th>GENTERA*</th>\n",
       "      <th>GCARSOA1</th>\n",
       "    </tr>\n",
       "  </thead>\n",
       "  <tbody>\n",
       "    <tr>\n",
       "      <th>ALSEA*</th>\n",
       "      <td>0.059311</td>\n",
       "      <td>0.011371</td>\n",
       "      <td>0.014907</td>\n",
       "      <td>0.011551</td>\n",
       "      <td>0.017879</td>\n",
       "      <td>0.021284</td>\n",
       "      <td>0.019921</td>\n",
       "    </tr>\n",
       "    <tr>\n",
       "      <th>GMEXICOB</th>\n",
       "      <td>0.011371</td>\n",
       "      <td>0.081936</td>\n",
       "      <td>0.013816</td>\n",
       "      <td>0.016184</td>\n",
       "      <td>0.013779</td>\n",
       "      <td>0.015503</td>\n",
       "      <td>0.026386</td>\n",
       "    </tr>\n",
       "    <tr>\n",
       "      <th>LABB</th>\n",
       "      <td>0.014907</td>\n",
       "      <td>0.013816</td>\n",
       "      <td>0.116668</td>\n",
       "      <td>0.011076</td>\n",
       "      <td>0.017742</td>\n",
       "      <td>0.018866</td>\n",
       "      <td>0.020939</td>\n",
       "    </tr>\n",
       "    <tr>\n",
       "      <th>AMXL</th>\n",
       "      <td>0.011551</td>\n",
       "      <td>0.016184</td>\n",
       "      <td>0.011076</td>\n",
       "      <td>0.057781</td>\n",
       "      <td>0.012913</td>\n",
       "      <td>0.012716</td>\n",
       "      <td>0.017199</td>\n",
       "    </tr>\n",
       "    <tr>\n",
       "      <th>KIMBERA</th>\n",
       "      <td>0.017879</td>\n",
       "      <td>0.013779</td>\n",
       "      <td>0.017742</td>\n",
       "      <td>0.012913</td>\n",
       "      <td>0.061756</td>\n",
       "      <td>0.022226</td>\n",
       "      <td>0.021810</td>\n",
       "    </tr>\n",
       "    <tr>\n",
       "      <th>GENTERA*</th>\n",
       "      <td>0.021284</td>\n",
       "      <td>0.015503</td>\n",
       "      <td>0.018866</td>\n",
       "      <td>0.012716</td>\n",
       "      <td>0.022226</td>\n",
       "      <td>0.107196</td>\n",
       "      <td>0.028079</td>\n",
       "    </tr>\n",
       "    <tr>\n",
       "      <th>GCARSOA1</th>\n",
       "      <td>0.019921</td>\n",
       "      <td>0.026386</td>\n",
       "      <td>0.020939</td>\n",
       "      <td>0.017199</td>\n",
       "      <td>0.021810</td>\n",
       "      <td>0.028079</td>\n",
       "      <td>0.090924</td>\n",
       "    </tr>\n",
       "  </tbody>\n",
       "</table>\n",
       "</div>"
      ],
      "text/plain": [
       "            ALSEA*  GMEXICOB      LABB      AMXL   KIMBERA  GENTERA*  GCARSOA1\n",
       "ALSEA*    0.059311  0.011371  0.014907  0.011551  0.017879  0.021284  0.019921\n",
       "GMEXICOB  0.011371  0.081936  0.013816  0.016184  0.013779  0.015503  0.026386\n",
       "LABB      0.014907  0.013816  0.116668  0.011076  0.017742  0.018866  0.020939\n",
       "AMXL      0.011551  0.016184  0.011076  0.057781  0.012913  0.012716  0.017199\n",
       "KIMBERA   0.017879  0.013779  0.017742  0.012913  0.061756  0.022226  0.021810\n",
       "GENTERA*  0.021284  0.015503  0.018866  0.012716  0.022226  0.107196  0.028079\n",
       "GCARSOA1  0.019921  0.026386  0.020939  0.017199  0.021810  0.028079  0.090924"
      ]
     },
     "execution_count": 17,
     "metadata": {},
     "output_type": "execute_result"
    }
   ],
   "source": [
    "vcov_a=rets.cov()*252 #anual\n",
    "vcov_a"
   ]
  },
  {
   "cell_type": "markdown",
   "metadata": {},
   "source": [
    "**Utilizando los rendimientos esperados bajo el modelo CAPM, construye:**\n",
    "\n",
    "# 3.Frontera de carteras de mínima varianza y frontera eficiente / graficar\n"
   ]
  },
  {
   "cell_type": "code",
   "execution_count": 18,
   "metadata": {},
   "outputs": [
    {
     "data": {
      "text/plain": [
       "ALSEA* MF Equity      0.000525\n",
       "GMEXICOB MF Equity    0.000644\n",
       "LABB MF Equity        0.000496\n",
       "AMXL MF Equity        0.000652\n",
       "KIMBERA MF Equity     0.000523\n",
       "GENTERA* MF Equity    0.000598\n",
       "GCARSOA1 MF Equity    0.000629\n",
       "Name: MEXBOL INDEX, dtype: float64"
      ]
     },
     "execution_count": 18,
     "metadata": {},
     "output_type": "execute_result"
    }
   ],
   "source": [
    "#rendimientos bajo CAPM #diarios\n",
    "#dado que suponemos las tasas libre de riesgo y premio anuales las hacemos diarias\n",
    "rf=0.05/252\n",
    "premio=.1/252\n",
    "rcap=rf+betas*premio \n",
    "rcap #diario"
   ]
  },
  {
   "cell_type": "code",
   "execution_count": 19,
   "metadata": {},
   "outputs": [
    {
     "data": {
      "text/plain": [
       "ALSEA* MF Equity      0.132210\n",
       "GMEXICOB MF Equity    0.162197\n",
       "LABB MF Equity        0.125054\n",
       "AMXL MF Equity        0.164330\n",
       "KIMBERA MF Equity     0.131811\n",
       "GENTERA* MF Equity    0.150717\n",
       "GCARSOA1 MF Equity    0.158468\n",
       "Name: MEXBOL INDEX, dtype: float64"
      ]
     },
     "execution_count": 19,
     "metadata": {},
     "output_type": "execute_result"
    }
   ],
   "source": [
    "rcap_a=rcap*252 #anual\n",
    "rcap_a"
   ]
  },
  {
   "cell_type": "code",
   "execution_count": 20,
   "metadata": {},
   "outputs": [],
   "source": [
    "#diarios\n",
    "def port_rend(weights, r):\n",
    "    E_p = (rcap @ weights)\n",
    "    return E_p\n",
    "\n",
    "def port_vol(weights, r):\n",
    "    S_p = np.sqrt(weights.T @ (r.cov()) @ weights)\n",
    "    return S_p\n",
    "\n",
    "#anuales\n",
    "def port_rend_a(weights, r):\n",
    "    E_p = (rcap_a @ weights)\n",
    "    return E_p\n",
    "\n",
    "def port_vol_a(weights, r):\n",
    "    S_p = np.sqrt(weights.T @ (r.cov()*252) @ weights)\n",
    "    return S_p"
   ]
  },
  {
   "cell_type": "code",
   "execution_count": 21,
   "metadata": {},
   "outputs": [],
   "source": [
    "weights_sim = np.random.random((5000, 7))\n",
    "weights_sim = weights_sim / weights_sim.sum(axis=1, keepdims=True)\n",
    "\n",
    "rend_sim = np.apply_along_axis(port_rend_a, 1, weights_sim, r=rets)\n",
    "vol_sim = np.apply_along_axis(port_vol_a, 1, weights_sim, r=rets)"
   ]
  },
  {
   "cell_type": "code",
   "execution_count": 22,
   "metadata": {},
   "outputs": [
    {
     "data": {
      "text/plain": [
       "Text(0.5, 1.0, 'Mínima varianza anual')"
      ]
     },
     "execution_count": 22,
     "metadata": {},
     "output_type": "execute_result"
    },
    {
     "data": {
      "image/png": "[encoded data removed]",
      "text/plain": [
       "<Figure size 432x288 with 2 Axes>"
      ]
     },
     "metadata": {
      "needs_background": "light"
     },
     "output_type": "display_data"
    }
   ],
   "source": [
    "sharpe_ratio = rend_sim / vol_sim\n",
    "plt.scatter(vol_sim, rend_sim, c=sharpe_ratio)\n",
    "plt.colorbar(label=\"Sharpe Ratio\")\n",
    "plt.xlabel(r\"$\\sigma^2_r$\", fontsize=13)\n",
    "plt.ylabel(\"E(r)\", fontsize=13);\n",
    "plt.title('Mínima varianza anual')"
   ]
  },
  {
   "cell_type": "markdown",
   "metadata": {},
   "source": [
    "**Frontera eficiente**"
   ]
  },
  {
   "cell_type": "code",
   "execution_count": 23,
   "metadata": {},
   "outputs": [],
   "source": [
    "from scipy.optimize import minimize"
   ]
  },
  {
   "cell_type": "code",
   "execution_count": 24,
   "metadata": {},
   "outputs": [
    {
     "data": {
      "text/plain": [
       "     fun: 0.15616423393653073\n",
       "     jac: array([0.15631711, 0.15658047, 0.15607796, 0.15608172, 0.15605413,\n",
       "       0.15545655, 0.15622459])\n",
       " message: 'Optimization terminated successfully.'\n",
       "    nfev: 101\n",
       "     nit: 11\n",
       "    njev: 11\n",
       "  status: 0\n",
       " success: True\n",
       "       x: array([0.21738308, 0.14444161, 0.09378242, 0.25121994, 0.17974844,\n",
       "       0.06787354, 0.04555096])"
      ]
     },
     "execution_count": 24,
     "metadata": {},
     "output_type": "execute_result"
    }
   ],
   "source": [
    "N, M = rets.shape\n",
    "w0  = np.random.randn(M)\n",
    "\n",
    "def sum_weights(weights):\n",
    "    return weights.sum() - 1 # == 0\n",
    "\n",
    "constraints = [\n",
    "    {\"type\": \"eq\", \"fun\": sum_weights}\n",
    "]\n",
    "\n",
    "port0 = minimize(port_vol_a, w0, constraints=constraints, args=rets)\n",
    "port0"
   ]
  },
  {
   "cell_type": "code",
   "execution_count": 25,
   "metadata": {},
   "outputs": [
    {
     "data": {
      "text/plain": [
       "(0.1463197480324147, 0.15616423393653073)"
      ]
     },
     "execution_count": 25,
     "metadata": {},
     "output_type": "execute_result"
    }
   ],
   "source": [
    "wp0 = port0.x\n",
    "port_rend_a(wp0, rets), port_vol_a(wp0, rets)"
   ]
  },
  {
   "cell_type": "code",
   "execution_count": 26,
   "metadata": {},
   "outputs": [
    {
     "data": {
      "image/png": "[encoded data removed]",
      "text/plain": [
       "<Figure size 432x288 with 2 Axes>"
      ]
     },
     "metadata": {
      "needs_background": "light"
     },
     "output_type": "display_data"
    }
   ],
   "source": [
    "sharpe_ratio = rend_sim / vol_sim\n",
    "plt.scatter(vol_sim, rend_sim, c=sharpe_ratio)\n",
    "plt.scatter(port_vol_a(wp0, rets), port_rend_a(wp0, rets),color='r')\n",
    "plt.colorbar(label=\"Sharpe Ratio\")\n",
    "plt.xlabel(r\"$\\sigma^2_r$\", fontsize=13)\n",
    "plt.ylabel(\"E(r)\", fontsize=13);"
   ]
  },
  {
   "cell_type": "code",
   "execution_count": 27,
   "metadata": {},
   "outputs": [],
   "source": [
    "def sum_weights(weights):\n",
    "    return weights.sum() -1 # == 0\n",
    "\n",
    "def rend_esperado(w, E):\n",
    "    return port_rend_a(w, rets) - E # == 0"
   ]
  },
  {
   "cell_type": "code",
   "execution_count": 28,
   "metadata": {},
   "outputs": [],
   "source": [
    "r_min = port_rend_a(wp0, rets)\n",
    "r_max = rcap_a.max()\n",
    "\n",
    "rend_max = np.linspace(r_min, r_max)"
   ]
  },
  {
   "cell_type": "code",
   "execution_count": 29,
   "metadata": {},
   "outputs": [],
   "source": [
    "pesos_optimos = []\n",
    "for e in rend_max:\n",
    "    constraints = [\n",
    "        {\"type\": \"eq\", \"fun\": sum_weights},\n",
    "        {\"type\": \"eq\", \"fun\": lambda w: rend_esperado(w, e)}\n",
    "    ]\n",
    "\n",
    "    port1 = minimize(port_vol_a, w0, constraints=constraints, args=rets)\n",
    "    w_opt = port1.x\n",
    "    pesos_optimos.append(w_opt)"
   ]
  },
  {
   "cell_type": "code",
   "execution_count": 30,
   "metadata": {},
   "outputs": [
    {
     "data": {
      "text/plain": [
       "<matplotlib.colorbar.Colorbar at 0x1ecbe28eb70>"
      ]
     },
     "execution_count": 30,
     "metadata": {},
     "output_type": "execute_result"
    },
    {
     "data": {
      "image/png": "[encoded data removed]",
      "text/plain": [
       "<Figure size 432x288 with 2 Axes>"
      ]
     },
     "metadata": {
      "needs_background": "light"
     },
     "output_type": "display_data"
    }
   ],
   "source": [
    "r_opt = []\n",
    "v_opt = []\n",
    "for w in pesos_optimos:\n",
    "    r_opt.append(port_rend_a(w, rets))\n",
    "    v_opt.append(port_vol_a(w, rets))\n",
    "\n",
    "r_opt = np.array(r_opt)\n",
    "v_opt = np.array(v_opt)\n",
    "\n",
    "plt.scatter(v_opt, r_opt, c=r_opt)\n",
    "plt.colorbar()"
   ]
  },
  {
   "cell_type": "markdown",
   "metadata": {},
   "source": [
    "# 4.Encuentra el portafolio riesgoso óptimo\n",
    "(maximiza el coeficiente de Sharpe)\n",
    "\n"
   ]
  },
  {
   "cell_type": "code",
   "execution_count": 31,
   "metadata": {},
   "outputs": [],
   "source": [
    "rf = 0.05\n",
    "\n",
    "def min_func_sharpe(weights):\n",
    "    return - (port_rend_a(weights, rets) - rf) / port_vol_a(weights, rets)\n",
    "\n",
    "constraints = [\n",
    "    {\"type\": \"eq\", \"fun\": sum_weights}\n",
    "]\n",
    "\n",
    "bounds=[(0,None),(0,None),(0,None),(0,None),(0,None),(0,None),(0,None)]\n",
    "\n",
    "f_sharpe = minimize(min_func_sharpe, w0, constraints=constraints)"
   ]
  },
  {
   "cell_type": "code",
   "execution_count": 32,
   "metadata": {},
   "outputs": [],
   "source": [
    "w_sharpe = f_sharpe.x"
   ]
  },
  {
   "cell_type": "code",
   "execution_count": 33,
   "metadata": {},
   "outputs": [
    {
     "data": {
      "text/plain": [
       "<matplotlib.legend.Legend at 0x1ecbfbf9860>"
      ]
     },
     "execution_count": 33,
     "metadata": {},
     "output_type": "execute_result"
    },
    {
     "data": {
      "image/png": "[encoded data removed]",
      "text/plain": [
       "<Figure size 432x288 with 1 Axes>"
      ]
     },
     "metadata": {
      "needs_background": "light"
     },
     "output_type": "display_data"
    }
   ],
   "source": [
    "e_sharpe = port_rend_a(w_sharpe, rets)\n",
    "vol_sharpe = port_vol_a(w_sharpe, rets)\n",
    "\n",
    "sigma_c =  np.linspace(0.1, 0.2)\n",
    "sharpe = rf + sigma_c * (e_sharpe - rf) / vol_sharpe\n",
    "\n",
    "plt.plot(sigma_c, sharpe, linestyle=\"--\", c=\"tab:orange\", label=\"Capital Allocation Line\")\n",
    "plt.plot(v_opt, r_opt)\n",
    "plt.legend(fontsize=12)"
   ]
  },
  {
   "cell_type": "code",
   "execution_count": 34,
   "metadata": {},
   "outputs": [
    {
     "data": {
      "text/plain": [
       "0.15246347484113937"
      ]
     },
     "execution_count": 34,
     "metadata": {},
     "output_type": "execute_result"
    }
   ],
   "source": [
    "e_sharpe"
   ]
  },
  {
   "cell_type": "markdown",
   "metadata": {},
   "source": [
    "# 5.Elige los porcentajes a invertir en el portafolio riesgoso óptimo y el activo libre de riesgo"
   ]
  },
  {
   "cell_type": "code",
   "execution_count": 44,
   "metadata": {},
   "outputs": [],
   "source": [
    "#wp0"
   ]
  },
  {
   "cell_type": "code",
   "execution_count": 43,
   "metadata": {},
   "outputs": [
    {
     "data": {
      "text/html": [
       "<div>\n",
       "<style scoped>\n",
       "    .dataframe tbody tr th:only-of-type {\n",
       "        vertical-align: middle;\n",
       "    }\n",
       "\n",
       "    .dataframe tbody tr th {\n",
       "        vertical-align: top;\n",
       "    }\n",
       "\n",
       "    .dataframe thead th {\n",
       "        text-align: right;\n",
       "    }\n",
       "</style>\n",
       "<table border=\"1\" class=\"dataframe\">\n",
       "  <thead>\n",
       "    <tr style=\"text-align: right;\">\n",
       "      <th></th>\n",
       "      <th>Porcentajes_inv</th>\n",
       "      <th>libre_inv</th>\n",
       "    </tr>\n",
       "  </thead>\n",
       "  <tbody>\n",
       "    <tr>\n",
       "      <th>ALSEA*</th>\n",
       "      <td>0.144193</td>\n",
       "      <td>0.217383</td>\n",
       "    </tr>\n",
       "    <tr>\n",
       "      <th>GMEXICOB</th>\n",
       "      <td>0.188936</td>\n",
       "      <td>0.144442</td>\n",
       "    </tr>\n",
       "    <tr>\n",
       "      <th>LABB</th>\n",
       "      <td>0.043560</td>\n",
       "      <td>0.093782</td>\n",
       "    </tr>\n",
       "    <tr>\n",
       "      <th>AMXL</th>\n",
       "      <td>0.341537</td>\n",
       "      <td>0.251220</td>\n",
       "    </tr>\n",
       "    <tr>\n",
       "      <th>KIMBERA</th>\n",
       "      <td>0.104257</td>\n",
       "      <td>0.179748</td>\n",
       "    </tr>\n",
       "    <tr>\n",
       "      <th>GENTERA*</th>\n",
       "      <td>0.089019</td>\n",
       "      <td>0.067874</td>\n",
       "    </tr>\n",
       "    <tr>\n",
       "      <th>GCARSOA1</th>\n",
       "      <td>0.088497</td>\n",
       "      <td>0.045551</td>\n",
       "    </tr>\n",
       "  </tbody>\n",
       "</table>\n",
       "</div>"
      ],
      "text/plain": [
       "          Porcentajes_inv  libre_inv\n",
       "ALSEA*           0.144193   0.217383\n",
       "GMEXICOB         0.188936   0.144442\n",
       "LABB             0.043560   0.093782\n",
       "AMXL             0.341537   0.251220\n",
       "KIMBERA          0.104257   0.179748\n",
       "GENTERA*         0.089019   0.067874\n",
       "GCARSOA1         0.088497   0.045551"
      ]
     },
     "execution_count": 43,
     "metadata": {},
     "output_type": "execute_result"
    }
   ],
   "source": [
    "#porcentajes a invertir..\n",
    "pesos=pd.DataFrame(w_sharpe,columns=['Porcentajes_inv'])\n",
    "pesos.index=rets.columns\n",
    "pesos['libre_inv']=wp0\n",
    "pesos"
   ]
  },
  {
   "cell_type": "code",
   "execution_count": 36,
   "metadata": {},
   "outputs": [
    {
     "data": {
      "text/plain": [
       "0.1610597446998209"
      ]
     },
     "execution_count": 36,
     "metadata": {},
     "output_type": "execute_result"
    }
   ],
   "source": [
    "vol_sharpe"
   ]
  },
  {
   "cell_type": "code",
   "execution_count": 37,
   "metadata": {},
   "outputs": [
    {
     "data": {
      "text/plain": [
       "1.3166605173817092"
      ]
     },
     "execution_count": 37,
     "metadata": {},
     "output_type": "execute_result"
    }
   ],
   "source": [
    "A=3\n",
    "y_star=(e_sharpe-rf)/(A*vol_sharpe**2)\n",
    "y_star"
   ]
  },
  {
   "cell_type": "code",
   "execution_count": 38,
   "metadata": {},
   "outputs": [],
   "source": [
    "#rend pARA NUESRO PRTAFOLIO A NIVEL A DE RIESGO\n",
    "E_util=rf+y_star*(e_sharpe-rf)"
   ]
  },
  {
   "cell_type": "code",
   "execution_count": 39,
   "metadata": {},
   "outputs": [],
   "source": [
    "V_util=y_star*vol_sharpe"
   ]
  },
  {
   "cell_type": "code",
   "execution_count": 40,
   "metadata": {},
   "outputs": [
    {
     "name": "stdout",
     "output_type": "stream",
     "text": [
      "0.18490961179706228 0.21206100678583217\n"
     ]
    }
   ],
   "source": [
    "#esperanza y varianza de la utilidad\n",
    "print(E_util,V_util)"
   ]
  },
  {
   "cell_type": "code",
   "execution_count": 41,
   "metadata": {},
   "outputs": [
    {
     "data": {
      "text/plain": [
       "<matplotlib.legend.Legend at 0x1ecbe1c1b00>"
      ]
     },
     "execution_count": 41,
     "metadata": {},
     "output_type": "execute_result"
    },
    {
     "data": {
      "image/png": "[encoded data removed]",
      "text/plain": [
       "<Figure size 432x288 with 1 Axes>"
      ]
     },
     "metadata": {
      "needs_background": "light"
     },
     "output_type": "display_data"
    }
   ],
   "source": [
    "e_sharpe = port_rend_a(w_sharpe, rets)\n",
    "vol_sharpe = port_vol_a(w_sharpe, rets)\n",
    "\n",
    "sigma_c =  np.linspace(0.1, 0.23)\n",
    "sharpe = rf + sigma_c * (e_sharpe - rf) / vol_sharpe\n",
    "\n",
    "plt.plot(sigma_c, sharpe, linestyle=\"--\", c=\"tab:orange\", label=\"Capital Allocation Line\")\n",
    "plt.plot(v_opt, r_opt)\n",
    "plt.scatter(V_util, E_util,c=\"r\")\n",
    "plt.legend(fontsize=12)"
   ]
  },
  {
   "cell_type": "markdown",
   "metadata": {},
   "source": [
    "# 6. ¿En qué escenarios ocuparías una red neuronal?\n",
    "**R= La usaría cuando tengo un fenómeno muy complejo de modelor ejemplo uanserie de tiempo que no muestra estacionalidades o que ajusta muy mal con los modelos tradicionales, si tuviera que modelar imagenes para detectar rostros millones de imágenes, en algún problema donde me importe más el resultado que la interpretación**"
   ]
  },
  {
   "cell_type": "markdown",
   "metadata": {},
   "source": [
    "# 7. ¿En qué escenarios no ocuparías una red neuronal?\n",
    "**R=Cuando me importa mucha la interpretabilidad, cuando el fenómeno se puede modelar, con buenos resultados,  con modelos simples de ML como regresiones o árboles, cuando tengo pocos datos ya que el performance de las redes mejora con la cantidad de datos.**"
   ]
  },
  {
   "cell_type": "markdown",
   "metadata": {},
   "source": [
    "# 8. Menciona tres funciones de activación para una red neuronal feed-forward\n",
    "**R=ReLu,Sigmoide,tanh,Softmax**"
   ]
  },
  {
   "cell_type": "markdown",
   "metadata": {},
   "source": [
    "# 9. ¿Qué es el método de backpropagation?\n",
    "\n",
    "**R=Es el método mediante el cual al entrenar una red neuronal, minimiza el error o costo como su nombre lo dice el proceso va ajustando los pesos de la red, en cada iteración, de tal modo que se alcance el error deseado todo esto partiendo del output o resultado de la red hacia atrás, matemáticamente es actualizar los pesos de toda la red por capa restando  acada peso de cada capa el gradiente o derivada corrrespondiente.**"
   ]
  },
  {
   "cell_type": "markdown",
   "metadata": {},
   "source": [
    "# 10. ¿En qué difiere una red neuronal feed-forward de una red neuronal convolucional?\n",
    "\n",
    "**R=Una CNN no debe ser necesariamente fully conected(todos los layers conectados) y tiene 3 dimensiones, a diferencia de la red feed-forward, base(width), altura(Height) y profundidad(depth)**"
   ]
  },
  {
   "cell_type": "code",
   "execution_count": null,
   "metadata": {},
   "outputs": [],
   "source": []
  }
 ],
 "metadata": {
  "kernelspec": {
   "display_name": "Python 3",
   "language": "python",
   "name": "python3"
  },
  "language_info": {
   "codemirror_mode": {
    "name": "ipython",
    "version": 3
   },
   "file_extension": ".py",
   "mimetype": "text/x-python",
   "name": "python",
   "nbconvert_exporter": "python",
   "pygments_lexer": "ipython3",
   "version": "3.7.3"
  }
 },
 "nbformat": 4,
 "nbformat_minor": 4
}
