{
 "cells": [
  {
   "cell_type": "code",
   "execution_count": 1,
   "metadata": {},
   "outputs": [],
   "source": [
    "import pandas as pd\n",
    "import numpy as np\n",
    "import matplotlib.pyplot as plt\n",
    "import seaborn as sns\n",
    "from scipy.optimize import minimize\n",
    "from sklearn.metrics import mean_squared_error,mean_absolute_error\n",
    "from ipywidgets import interact\n",
    "from scipy.stats import norm"
   ]
  },
  {
   "cell_type": "markdown",
   "metadata": {},
   "source": [
    "# Cálculo del VaR método paramétrico"
   ]
  },
  {
   "cell_type": "markdown",
   "metadata": {},
   "source": [
    "# Calculo de rendimientos"
   ]
  },
  {
   "cell_type": "code",
   "execution_count": 2,
   "metadata": {},
   "outputs": [
    {
     "data": {
      "text/plain": [
       "ASURB MF Equity       0.000490\n",
       "GFNORTEO MF Equity    0.000313\n",
       "PE&OLES* MF Equity    0.000441\n",
       "WALMEX* MF Equity     0.000327\n",
       "IENOVA* MF Equity     0.000313\n",
       "dtype: float64"
      ]
     },
     "execution_count": 2,
     "metadata": {},
     "output_type": "execute_result"
    }
   ],
   "source": [
    "port_path = \"PreciosPortf.xlsx\"\n",
    "data = pd.read_excel(port_path, index_col=0)\n",
    "\n",
    "rend = data.pct_change().dropna()\n",
    "\n",
    "rend_ports = rend.mean()\n",
    "rend_ports"
   ]
  },
  {
   "cell_type": "markdown",
   "metadata": {},
   "source": [
    "# Creación de la matriz de varianzas y covarianzas sobre los rendimientos"
   ]
  },
  {
   "cell_type": "markdown",
   "metadata": {},
   "source": [
    "**Anualizada**"
   ]
  },
  {
   "cell_type": "code",
   "execution_count": 3,
   "metadata": {},
   "outputs": [
    {
     "data": {
      "text/html": [
       "<div>\n",
       "<style scoped>\n",
       "    .dataframe tbody tr th:only-of-type {\n",
       "        vertical-align: middle;\n",
       "    }\n",
       "\n",
       "    .dataframe tbody tr th {\n",
       "        vertical-align: top;\n",
       "    }\n",
       "\n",
       "    .dataframe thead th {\n",
       "        text-align: right;\n",
       "    }\n",
       "</style>\n",
       "<table border=\"1\" class=\"dataframe\">\n",
       "  <thead>\n",
       "    <tr style=\"text-align: right;\">\n",
       "      <th></th>\n",
       "      <th>ASURB MF Equity</th>\n",
       "      <th>GFNORTEO MF Equity</th>\n",
       "      <th>PE&amp;OLES* MF Equity</th>\n",
       "      <th>WALMEX* MF Equity</th>\n",
       "      <th>IENOVA* MF Equity</th>\n",
       "    </tr>\n",
       "  </thead>\n",
       "  <tbody>\n",
       "    <tr>\n",
       "      <td>ASURB MF Equity</td>\n",
       "      <td>0.056395</td>\n",
       "      <td>0.021719</td>\n",
       "      <td>0.015274</td>\n",
       "      <td>0.009059</td>\n",
       "      <td>0.011079</td>\n",
       "    </tr>\n",
       "    <tr>\n",
       "      <td>GFNORTEO MF Equity</td>\n",
       "      <td>0.021719</td>\n",
       "      <td>0.086023</td>\n",
       "      <td>0.023718</td>\n",
       "      <td>0.020604</td>\n",
       "      <td>0.020555</td>\n",
       "    </tr>\n",
       "    <tr>\n",
       "      <td>PE&amp;OLES* MF Equity</td>\n",
       "      <td>0.015274</td>\n",
       "      <td>0.023718</td>\n",
       "      <td>0.138051</td>\n",
       "      <td>0.010318</td>\n",
       "      <td>0.011368</td>\n",
       "    </tr>\n",
       "    <tr>\n",
       "      <td>WALMEX* MF Equity</td>\n",
       "      <td>0.009059</td>\n",
       "      <td>0.020604</td>\n",
       "      <td>0.010318</td>\n",
       "      <td>0.054222</td>\n",
       "      <td>0.010804</td>\n",
       "    </tr>\n",
       "    <tr>\n",
       "      <td>IENOVA* MF Equity</td>\n",
       "      <td>0.011079</td>\n",
       "      <td>0.020555</td>\n",
       "      <td>0.011368</td>\n",
       "      <td>0.010804</td>\n",
       "      <td>0.056846</td>\n",
       "    </tr>\n",
       "  </tbody>\n",
       "</table>\n",
       "</div>"
      ],
      "text/plain": [
       "                    ASURB MF Equity  GFNORTEO MF Equity  PE&OLES* MF Equity  \\\n",
       "ASURB MF Equity            0.056395            0.021719            0.015274   \n",
       "GFNORTEO MF Equity         0.021719            0.086023            0.023718   \n",
       "PE&OLES* MF Equity         0.015274            0.023718            0.138051   \n",
       "WALMEX* MF Equity          0.009059            0.020604            0.010318   \n",
       "IENOVA* MF Equity          0.011079            0.020555            0.011368   \n",
       "\n",
       "                    WALMEX* MF Equity  IENOVA* MF Equity  \n",
       "ASURB MF Equity              0.009059           0.011079  \n",
       "GFNORTEO MF Equity           0.020604           0.020555  \n",
       "PE&OLES* MF Equity           0.010318           0.011368  \n",
       "WALMEX* MF Equity            0.054222           0.010804  \n",
       "IENOVA* MF Equity            0.010804           0.056846  "
      ]
     },
     "execution_count": 3,
     "metadata": {},
     "output_type": "execute_result"
    }
   ],
   "source": [
    "macv_a=rend.cov()*252\n",
    "macv_a"
   ]
  },
  {
   "cell_type": "markdown",
   "metadata": {},
   "source": [
    "**Diaria**"
   ]
  },
  {
   "cell_type": "code",
   "execution_count": 4,
   "metadata": {},
   "outputs": [
    {
     "data": {
      "text/html": [
       "<div>\n",
       "<style scoped>\n",
       "    .dataframe tbody tr th:only-of-type {\n",
       "        vertical-align: middle;\n",
       "    }\n",
       "\n",
       "    .dataframe tbody tr th {\n",
       "        vertical-align: top;\n",
       "    }\n",
       "\n",
       "    .dataframe thead th {\n",
       "        text-align: right;\n",
       "    }\n",
       "</style>\n",
       "<table border=\"1\" class=\"dataframe\">\n",
       "  <thead>\n",
       "    <tr style=\"text-align: right;\">\n",
       "      <th></th>\n",
       "      <th>ASURB MF Equity</th>\n",
       "      <th>GFNORTEO MF Equity</th>\n",
       "      <th>PE&amp;OLES* MF Equity</th>\n",
       "      <th>WALMEX* MF Equity</th>\n",
       "      <th>IENOVA* MF Equity</th>\n",
       "    </tr>\n",
       "  </thead>\n",
       "  <tbody>\n",
       "    <tr>\n",
       "      <td>ASURB MF Equity</td>\n",
       "      <td>0.000224</td>\n",
       "      <td>0.000086</td>\n",
       "      <td>0.000061</td>\n",
       "      <td>0.000036</td>\n",
       "      <td>0.000044</td>\n",
       "    </tr>\n",
       "    <tr>\n",
       "      <td>GFNORTEO MF Equity</td>\n",
       "      <td>0.000086</td>\n",
       "      <td>0.000341</td>\n",
       "      <td>0.000094</td>\n",
       "      <td>0.000082</td>\n",
       "      <td>0.000082</td>\n",
       "    </tr>\n",
       "    <tr>\n",
       "      <td>PE&amp;OLES* MF Equity</td>\n",
       "      <td>0.000061</td>\n",
       "      <td>0.000094</td>\n",
       "      <td>0.000548</td>\n",
       "      <td>0.000041</td>\n",
       "      <td>0.000045</td>\n",
       "    </tr>\n",
       "    <tr>\n",
       "      <td>WALMEX* MF Equity</td>\n",
       "      <td>0.000036</td>\n",
       "      <td>0.000082</td>\n",
       "      <td>0.000041</td>\n",
       "      <td>0.000215</td>\n",
       "      <td>0.000043</td>\n",
       "    </tr>\n",
       "    <tr>\n",
       "      <td>IENOVA* MF Equity</td>\n",
       "      <td>0.000044</td>\n",
       "      <td>0.000082</td>\n",
       "      <td>0.000045</td>\n",
       "      <td>0.000043</td>\n",
       "      <td>0.000226</td>\n",
       "    </tr>\n",
       "  </tbody>\n",
       "</table>\n",
       "</div>"
      ],
      "text/plain": [
       "                    ASURB MF Equity  GFNORTEO MF Equity  PE&OLES* MF Equity  \\\n",
       "ASURB MF Equity            0.000224            0.000086            0.000061   \n",
       "GFNORTEO MF Equity         0.000086            0.000341            0.000094   \n",
       "PE&OLES* MF Equity         0.000061            0.000094            0.000548   \n",
       "WALMEX* MF Equity          0.000036            0.000082            0.000041   \n",
       "IENOVA* MF Equity          0.000044            0.000082            0.000045   \n",
       "\n",
       "                    WALMEX* MF Equity  IENOVA* MF Equity  \n",
       "ASURB MF Equity              0.000036           0.000044  \n",
       "GFNORTEO MF Equity           0.000082           0.000082  \n",
       "PE&OLES* MF Equity           0.000041           0.000045  \n",
       "WALMEX* MF Equity            0.000215           0.000043  \n",
       "IENOVA* MF Equity            0.000043           0.000226  "
      ]
     },
     "execution_count": 4,
     "metadata": {},
     "output_type": "execute_result"
    }
   ],
   "source": [
    "macv=rend.cov()\n",
    "macv"
   ]
  },
  {
   "cell_type": "markdown",
   "metadata": {},
   "source": [
    "**Usamos los pesos optimos de sharpe del ejercicio de clase**"
   ]
  },
  {
   "cell_type": "code",
   "execution_count": 5,
   "metadata": {},
   "outputs": [
    {
     "data": {
      "text/plain": [
       "1.0"
      ]
     },
     "execution_count": 5,
     "metadata": {},
     "output_type": "execute_result"
    }
   ],
   "source": [
    "#Pesos Sharpe\n",
    "w_sharpe=np.array([0.68160871, 0.        , 0.15915732, 0.12519673, 0.03403724])\n",
    "w_alt=np.array([ .24549192, .05227278,  .12184614,  .30259055,  0.27779861])\n",
    "w_alt.sum()"
   ]
  },
  {
   "cell_type": "code",
   "execution_count": 6,
   "metadata": {},
   "outputs": [
    {
     "data": {
      "text/plain": [
       "0.11488868216309914"
      ]
     },
     "execution_count": 6,
     "metadata": {},
     "output_type": "execute_result"
    }
   ],
   "source": [
    "# rendimiento esperado (anualizado) de portafolio\n",
    "(rend.mean() * w_sharpe).sum() * 252"
   ]
  },
  {
   "cell_type": "code",
   "execution_count": 7,
   "metadata": {},
   "outputs": [],
   "source": [
    "initial_investment = 10000000"
   ]
  },
  {
   "cell_type": "code",
   "execution_count": null,
   "metadata": {},
   "outputs": [],
   "source": []
  },
  {
   "cell_type": "markdown",
   "metadata": {},
   "source": [
    "# VaR de cada acción "
   ]
  },
  {
   "cell_type": "code",
   "execution_count": 8,
   "metadata": {},
   "outputs": [
    {
     "data": {
      "text/html": [
       "<div>\n",
       "<style scoped>\n",
       "    .dataframe tbody tr th:only-of-type {\n",
       "        vertical-align: middle;\n",
       "    }\n",
       "\n",
       "    .dataframe tbody tr th {\n",
       "        vertical-align: top;\n",
       "    }\n",
       "\n",
       "    .dataframe thead th {\n",
       "        text-align: right;\n",
       "    }\n",
       "</style>\n",
       "<table border=\"1\" class=\"dataframe\">\n",
       "  <thead>\n",
       "    <tr style=\"text-align: right;\">\n",
       "      <th></th>\n",
       "      <th>Vector_pos</th>\n",
       "      <th>vol_diaria</th>\n",
       "      <th>vol_anual</th>\n",
       "      <th>VaR95_diario</th>\n",
       "      <th>VaR99_diario</th>\n",
       "      <th>VaR95_anual</th>\n",
       "      <th>VaR99_anual</th>\n",
       "    </tr>\n",
       "  </thead>\n",
       "  <tbody>\n",
       "    <tr>\n",
       "      <td>ASURB MF Equity</td>\n",
       "      <td>6816087.1</td>\n",
       "      <td>0.014960</td>\n",
       "      <td>0.237477</td>\n",
       "      <td>167719.424422</td>\n",
       "      <td>237208.782622</td>\n",
       "      <td>2.662463e+06</td>\n",
       "      <td>3.765573e+06</td>\n",
       "    </tr>\n",
       "    <tr>\n",
       "      <td>GFNORTEO MF Equity</td>\n",
       "      <td>0.0</td>\n",
       "      <td>0.018476</td>\n",
       "      <td>0.293297</td>\n",
       "      <td>0.000000</td>\n",
       "      <td>0.000000</td>\n",
       "      <td>0.000000e+00</td>\n",
       "      <td>0.000000e+00</td>\n",
       "    </tr>\n",
       "    <tr>\n",
       "      <td>PE&amp;OLES* MF Equity</td>\n",
       "      <td>1591573.2</td>\n",
       "      <td>0.023406</td>\n",
       "      <td>0.371552</td>\n",
       "      <td>61273.616589</td>\n",
       "      <td>86660.445252</td>\n",
       "      <td>9.726885e+05</td>\n",
       "      <td>1.375692e+06</td>\n",
       "    </tr>\n",
       "    <tr>\n",
       "      <td>WALMEX* MF Equity</td>\n",
       "      <td>1251967.3</td>\n",
       "      <td>0.014669</td>\n",
       "      <td>0.232857</td>\n",
       "      <td>30207.058983</td>\n",
       "      <td>42722.419974</td>\n",
       "      <td>4.795222e+05</td>\n",
       "      <td>6.781974e+05</td>\n",
       "    </tr>\n",
       "    <tr>\n",
       "      <td>IENOVA* MF Equity</td>\n",
       "      <td>340372.4</td>\n",
       "      <td>0.015019</td>\n",
       "      <td>0.238424</td>\n",
       "      <td>8408.762666</td>\n",
       "      <td>11892.673507</td>\n",
       "      <td>1.334850e+05</td>\n",
       "      <td>1.887903e+05</td>\n",
       "    </tr>\n",
       "  </tbody>\n",
       "</table>\n",
       "</div>"
      ],
      "text/plain": [
       "                    Vector_pos  vol_diaria  vol_anual   VaR95_diario  \\\n",
       "ASURB MF Equity      6816087.1    0.014960   0.237477  167719.424422   \n",
       "GFNORTEO MF Equity         0.0    0.018476   0.293297       0.000000   \n",
       "PE&OLES* MF Equity   1591573.2    0.023406   0.371552   61273.616589   \n",
       "WALMEX* MF Equity    1251967.3    0.014669   0.232857   30207.058983   \n",
       "IENOVA* MF Equity     340372.4    0.015019   0.238424    8408.762666   \n",
       "\n",
       "                     VaR99_diario   VaR95_anual   VaR99_anual  \n",
       "ASURB MF Equity     237208.782622  2.662463e+06  3.765573e+06  \n",
       "GFNORTEO MF Equity       0.000000  0.000000e+00  0.000000e+00  \n",
       "PE&OLES* MF Equity   86660.445252  9.726885e+05  1.375692e+06  \n",
       "WALMEX* MF Equity    42722.419974  4.795222e+05  6.781974e+05  \n",
       "IENOVA* MF Equity    11892.673507  1.334850e+05  1.887903e+05  "
      ]
     },
     "execution_count": 8,
     "metadata": {},
     "output_type": "execute_result"
    }
   ],
   "source": [
    "#Hacemos el vector de posiciones..\n",
    "Vector_pos=w_sharpe*initial_investment\n",
    "#Calculamos volatilidad diaria y anual\n",
    "vol_diaria=np.sqrt(np.diag(macv))\n",
    "vol_anual=np.sqrt(np.diag(macv_a))\n",
    "portaf=pd.DataFrame(np.transpose([Vector_pos,vol_diaria,vol_anual]),columns=[\"Vector_pos\",\"vol_diaria\",\"vol_anual\"])\n",
    "portaf.index=rend.columns\n",
    "\n",
    "portaf['VaR95_diario']=norm.ppf(.95)*portaf['vol_diaria']*portaf['Vector_pos']\n",
    "portaf['VaR99_diario']=norm.ppf(.99)*portaf['vol_diaria']*portaf['Vector_pos']\n",
    "portaf['VaR95_anual']=norm.ppf(.95)*portaf['vol_anual']*portaf['Vector_pos']\n",
    "portaf['VaR99_anual']=norm.ppf(.99)*portaf['vol_anual']*portaf['Vector_pos']\n",
    "sal=portaf.sum(axis=0)\n",
    "portaf"
   ]
  },
  {
   "cell_type": "markdown",
   "metadata": {},
   "source": [
    "# Usando los pesos óptimos de sharpe calculamos la media y desviación del portafolio"
   ]
  },
  {
   "cell_type": "markdown",
   "metadata": {},
   "source": [
    "**Rendimiento y desv diaria**"
   ]
  },
  {
   "cell_type": "code",
   "execution_count": 9,
   "metadata": {},
   "outputs": [],
   "source": [
    "E_p = (rend.mean() @ w_sharpe)\n",
    "S_p = np.sqrt(w_sharpe.T @ (rend.cov()) @ w_sharpe)"
   ]
  },
  {
   "cell_type": "markdown",
   "metadata": {},
   "source": [
    "**Rendimiento y desv anualizado**"
   ]
  },
  {
   "cell_type": "code",
   "execution_count": 10,
   "metadata": {},
   "outputs": [],
   "source": [
    "E_pa = (rend.mean() @ w_sharpe*252)\n",
    "S_pa = np.sqrt(w_sharpe.T @ (rend.cov()*252) @ w_sharpe)"
   ]
  },
  {
   "cell_type": "code",
   "execution_count": 11,
   "metadata": {},
   "outputs": [],
   "source": [
    "# rendimentos esperados diarios y anualizados\n",
    "mean_investment = (1+E_p) * initial_investment\n",
    "mean_investment_a = (1+E_pa) * initial_investment"
   ]
  },
  {
   "cell_type": "code",
   "execution_count": 12,
   "metadata": {},
   "outputs": [],
   "source": [
    "# standard deviation diaria y anualizada\n",
    "stdev_investment = initial_investment * S_p\n",
    "stdev_investment_a = initial_investment * S_pa"
   ]
  },
  {
   "cell_type": "code",
   "execution_count": null,
   "metadata": {},
   "outputs": [],
   "source": []
  },
  {
   "cell_type": "markdown",
   "metadata": {},
   "source": [
    "# Método Var_cov_var del Portafolio"
   ]
  },
  {
   "cell_type": "markdown",
   "metadata": {},
   "source": [
    "**A diferencia de lo utilizado en el excel se utiliza $N\\sim(P*(1+E_p),P*S_p^2)$ para la normalización en vez de una $N\\sim(0,1)$ ya que estamos ajustando una normal con los parámetros de la distribución del rendimiento, usando $P$ como la inversión inicial.**"
   ]
  },
  {
   "cell_type": "markdown",
   "metadata": {},
   "source": [
    "# Calculamos la inversa de la normal con un intervalo de confianza especifico, usando la media E_p y desviacion S_p"
   ]
  },
  {
   "cell_type": "markdown",
   "metadata": {},
   "source": [
    "**Diario**"
   ]
  },
  {
   "cell_type": "code",
   "execution_count": 13,
   "metadata": {},
   "outputs": [],
   "source": [
    "# Seleccionamos el nivel de confianza:\n",
    "conf_level1 = 1-0.95\n",
    "conf_level2 = 1-.99\n",
    "cutoff1 = norm.ppf(conf_level1, mean_investment, stdev_investment)\n",
    "cutoff2 = norm.ppf(conf_level2, mean_investment, stdev_investment)"
   ]
  },
  {
   "cell_type": "markdown",
   "metadata": {},
   "source": [
    "**Anualizado**"
   ]
  },
  {
   "cell_type": "code",
   "execution_count": 14,
   "metadata": {},
   "outputs": [],
   "source": [
    "cutoff1a = norm.ppf(conf_level1, mean_investment_a, stdev_investment_a)\n",
    "cutoff2a = norm.ppf(conf_level2, mean_investment_a, stdev_investment_a)"
   ]
  },
  {
   "cell_type": "markdown",
   "metadata": {},
   "source": [
    "# Estimamos el VaR al $1-\\alpha$%"
   ]
  },
  {
   "cell_type": "code",
   "execution_count": 15,
   "metadata": {},
   "outputs": [],
   "source": [
    "#Calculamos el VaR a l intervalo diario\n",
    "var_95 = initial_investment - cutoff1\n",
    "var_99= initial_investment - cutoff2\n",
    "#Calculamos el VaR a l intervalo anualizado\n",
    "var_95a = initial_investment - cutoff1a\n",
    "var_99a= initial_investment - cutoff2a"
   ]
  },
  {
   "cell_type": "code",
   "execution_count": 16,
   "metadata": {},
   "outputs": [
    {
     "name": "stdout",
     "output_type": "stream",
     "text": [
      "el VaR diario al 95% de confianza es: 193707.84, entonces con un 95%  de confianza nuestro portafolio No tendrá pérdidas diarias mayores a 193.708k\n",
      "el VaR diario al 99% de confianza es: 275853.6, entonces con un 99%  de confianza nuestro portafolio No tendrá pérdidas diarias mayores a 275.854k\n",
      "el VaR anualizado al 95% de confianza es: 1998502.83, entonces con un 95%  de confianza nuestro portafolio No tendrá pérdidas anuales mayores a 1.998503M\n",
      "el VaR anualizado al 99% de confianza es: 3302526.42, entonces con un 99%  de confianza nuestro portafolio No tendrá pérdidas anuales mayores a 3.302526M\n"
     ]
    }
   ],
   "source": [
    "print(f\"el VaR diario al 95% de confianza es: {np.round(var_95,2)}, entonces con un 95%  de confianza nuestro portafolio No tendrá pérdidas diarias mayores a {np.round(var_95,0)/1000}k\")\n",
    "print(f\"el VaR diario al 99% de confianza es: {np.round(var_99,2)}, entonces con un 99%  de confianza nuestro portafolio No tendrá pérdidas diarias mayores a {np.round(var_99,0)/1000}k\")\n",
    "print(f\"el VaR anualizado al 95% de confianza es: {np.round(var_95a,2)}, entonces con un 95%  de confianza nuestro portafolio No tendrá pérdidas anuales mayores a {np.round(var_95a,0)/1000000}M\")\n",
    "print(f\"el VaR anualizado al 99% de confianza es: {np.round(var_99a,2)}, entonces con un 99%  de confianza nuestro portafolio No tendrá pérdidas anuales mayores a {np.round(var_99a,0)/1000000}M\")"
   ]
  },
  {
   "cell_type": "code",
   "execution_count": null,
   "metadata": {},
   "outputs": [],
   "source": []
  },
  {
   "cell_type": "markdown",
   "metadata": {},
   "source": [
    "# Efecto de Diversificación.."
   ]
  },
  {
   "cell_type": "markdown",
   "metadata": {},
   "source": [
    "**Diario**"
   ]
  },
  {
   "cell_type": "code",
   "execution_count": 17,
   "metadata": {},
   "outputs": [
    {
     "name": "stdout",
     "output_type": "stream",
     "text": [
      "El efecto de diversificación diario de VaR95 es: 73901.02562974888\n",
      "El efecto de diversificación diario de VaR99 es: 102630.71918652416\n"
     ]
    }
   ],
   "source": [
    "print(f\"El efecto de diversificación diario de VaR95 es: {sal['VaR95_diario']-var_95}\")\n",
    "print(f\"El efecto de diversificación diario de VaR99 es: {sal['VaR99_diario']-var_99}\")"
   ]
  },
  {
   "cell_type": "code",
   "execution_count": 18,
   "metadata": {},
   "outputs": [
    {
     "name": "stdout",
     "output_type": "stream",
     "text": [
      "El efecto de diversificación anual de VaR95 es: 2249656.1673103822\n",
      "El efecto de diversificación anual de VaR99 es: 2705725.9136763103\n"
     ]
    }
   ],
   "source": [
    "print(f\"El efecto de diversificación anual de VaR95 es: {sal['VaR95_anual']-var_95a}\")\n",
    "print(f\"El efecto de diversificación anual de VaR99 es: {sal['VaR99_anual']-var_99a}\")"
   ]
  },
  {
   "cell_type": "markdown",
   "metadata": {},
   "source": [
    "# Distribuciones de las acciones vs. Distribución Normal"
   ]
  },
  {
   "cell_type": "markdown",
   "metadata": {},
   "source": [
    "**Estamos asumiendo que los rendimientos de las acciones de nuestra cartera se distribuyen normal al calcular el VaR. Por supuesto, no podemos predecir eso en el futuro, pero al menos podemos verificar cómo se han distribuido los rendimientos históricos para ayudarnos a evaluar si VaR es adecuado para usar en nuestra cartera.**"
   ]
  },
  {
   "cell_type": "code",
   "execution_count": 19,
   "metadata": {},
   "outputs": [
    {
     "name": "stderr",
     "output_type": "stream",
     "text": [
      "/home/abraham/anaconda4/lib/python3.7/site-packages/pandas/plotting/_matplotlib/hist.py:316: MatplotlibDeprecationWarning: \n",
      "The 'normed' kwarg was deprecated in Matplotlib 2.1 and will be removed in 3.1. Use 'density' instead.\n",
      "  ax.hist(values, bins=bins, **kwds)\n"
     ]
    },
    {
     "data": {
      "image/png": "[encoded data removed]",
      "text/plain": [
       "<Figure size 432x288 with 1 Axes>"
      ]
     },
     "metadata": {
      "needs_background": "light"
     },
     "output_type": "display_data"
    },
    {
     "data": {
      "image/png": "[encoded data removed]",
      "text/plain": [
       "<Figure size 432x288 with 1 Axes>"
      ]
     },
     "metadata": {
      "needs_background": "light"
     },
     "output_type": "display_data"
    },
    {
     "data": {
      "image/png": "[encoded data removed]",
      "text/plain": [
       "<Figure size 432x288 with 1 Axes>"
      ]
     },
     "metadata": {
      "needs_background": "light"
     },
     "output_type": "display_data"
    },
    {
     "data": {
      "image/png": "[encoded data removed]",
      "text/plain": [
       "<Figure size 432x288 with 1 Axes>"
      ]
     },
     "metadata": {
      "needs_background": "light"
     },
     "output_type": "display_data"
    },
    {
     "data": {
      "image/png": "[encoded data removed]",
      "text/plain": [
       "<Figure size 432x288 with 1 Axes>"
      ]
     },
     "metadata": {
      "needs_background": "light"
     },
     "output_type": "display_data"
    }
   ],
   "source": [
    "import matplotlib.pyplot as plt\n",
    "for c in rend.columns:\n",
    "\n",
    "    # Repeat for each equity in portfolio\n",
    "    rend[c].hist(bins=40, normed=True,histtype=\"stepfilled\",alpha=0.5,label=\"rendimientos\")\n",
    "    x = np.linspace(E_p - 3*S_p, E_p+3*S_p,100)\n",
    "    plt.plot(x, norm.pdf(x, E_p, S_p), \"r\",label=r\"$N\\sim(E_p,S_p^2)$\")\n",
    "    plt.legend()\n",
    "    plt.title(f\"{c} rendimientos dist vs. Normal\")\n",
    "    plt.show()    "
   ]
  },
  {
   "cell_type": "markdown",
   "metadata": {},
   "source": [
    "# VaR al tiempo t"
   ]
  },
  {
   "cell_type": "markdown",
   "metadata": {},
   "source": [
    "**Si tomamos nuestro VaR diario y lo multiplicamos por $\\sqrt(t)$ podemos calcular $VaR_t$**\n",
    "\n",
    "**si tomamos toda la base de acciones podemos ve la gráfica del VaR al en cada día...**"
   ]
  },
  {
   "cell_type": "code",
   "execution_count": 20,
   "metadata": {},
   "outputs": [
    {
     "data": {
      "image/png": "[encoded data removed]",
      "text/plain": [
       "<Figure size 432x288 with 1 Axes>"
      ]
     },
     "metadata": {},
     "output_type": "display_data"
    }
   ],
   "source": [
    "plt.style.use(\"fivethirtyeight\")\n",
    "# Calculamos VaR al dia t\n",
    "var_array = []\n",
    "num_days = int(len(rend))\n",
    "for x in range(1, num_days+1):    \n",
    "    var_array.append(np.round(var_95 * np.sqrt(x),2))\n",
    "    #print(str(x) + \" day VaR @ 95% confidence: \" + str(np.round(var_1d1 * np.sqrt(x),2)))\n",
    "\n",
    "# Build plot\n",
    "plt.xlabel(r\"$t$\")\n",
    "plt.ylabel(\"Portafolio_perdida_maxima(USD)\")\n",
    "plt.title(f\"Portafolio_perdida_maxima (VaR) periodo: {num_days} dias\")\n",
    "plt.plot(var_array, \"r\")\n",
    "plt.grid(color=\"b\")"
   ]
  },
  {
   "cell_type": "markdown",
   "metadata": {},
   "source": [
    "# Conclusiones"
   ]
  },
  {
   "cell_type": "markdown",
   "metadata": {},
   "source": [
    "**Podemos observar que con respecto al ejercicio del excel, usando los pesos óptimos de sharpe al 95% de confianza el VaR diario se mueve de 161k a 193k por tanto en el portafolio óptimo es mayor en cambio en el anualizado el VaR disminuye de 2.5M a 2M de este modo podemos concluir que nuestro valor al riesgo en el portafolio óptimo cambia según los pesos.**"
   ]
  },
  {
   "cell_type": "code",
   "execution_count": null,
   "metadata": {},
   "outputs": [],
   "source": []
  }
 ],
 "metadata": {
  "kernelspec": {
   "display_name": "Python 3",
   "language": "python",
   "name": "python3"
  },
  "language_info": {
   "codemirror_mode": {
    "name": "ipython",
    "version": 3
   },
   "file_extension": ".py",
   "mimetype": "text/x-python",
   "name": "python",
   "nbconvert_exporter": "python",
   "pygments_lexer": "ipython3",
   "version": "3.7.4"
  }
 },
 "nbformat": 4,
 "nbformat_minor": 4
}
